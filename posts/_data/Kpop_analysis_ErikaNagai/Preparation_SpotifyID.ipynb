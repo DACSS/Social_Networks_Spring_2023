{
 "cells": [
  {
   "attachments": {},
   "cell_type": "markdown",
   "metadata": {},
   "source": [
    "This notebook is to show the process of gathering the top K-pop artists' Spotify ID for the last 25-20 years.\n",
    "Since there is not objective and comprehensive list of all famous K-pop artists, I used the following two approaches to get as many and objective information as possible.\n",
    "\n",
    "(1) Ask ChatGPT about the top 50 K-pop artists as of 2010, 2012, 2015, 2018, 2020\n",
    "(2) Get the all artists from Spotify official playlists \"Top-KPop Artists of 2022\", \"Millenium K-Pop\", \"Best of 2018: K-Pop\" \n",
    "\n"
   ]
  },
  {
   "cell_type": "code",
   "execution_count": 1,
   "metadata": {},
   "outputs": [
    {
     "name": "stdout",
     "output_type": "stream",
     "text": [
      "Requirement already satisfied: ipykernel in c:\\users\\microsoft\\anaconda3\\envs\\mlenv\\lib\\site-packages (6.9.1)\n",
      "Requirement already satisfied: debugpy<2.0,>=1.0.0 in c:\\users\\microsoft\\anaconda3\\envs\\mlenv\\lib\\site-packages (from ipykernel) (1.5.1)\n",
      "Requirement already satisfied: ipython>=7.23.1 in c:\\users\\microsoft\\anaconda3\\envs\\mlenv\\lib\\site-packages (from ipykernel) (7.31.1)\n",
      "Requirement already satisfied: traitlets<6.0,>=5.1.0 in c:\\users\\microsoft\\anaconda3\\envs\\mlenv\\lib\\site-packages (from ipykernel) (5.1.1)\n",
      "Requirement already satisfied: jupyter-client<8.0 in c:\\users\\microsoft\\anaconda3\\envs\\mlenv\\lib\\site-packages (from ipykernel) (6.1.12)\n",
      "Requirement already satisfied: tornado<7.0,>=4.2 in c:\\users\\microsoft\\anaconda3\\envs\\mlenv\\lib\\site-packages (from ipykernel) (6.1)\n",
      "Requirement already satisfied: matplotlib-inline<0.2.0,>=0.1.0 in c:\\users\\microsoft\\anaconda3\\envs\\mlenv\\lib\\site-packages (from ipykernel) (0.1.2)\n",
      "Requirement already satisfied: nest-asyncio in c:\\users\\microsoft\\anaconda3\\envs\\mlenv\\lib\\site-packages (from ipykernel) (1.5.5)\n",
      "Requirement already satisfied: setuptools>=18.5 in c:\\users\\microsoft\\anaconda3\\envs\\mlenv\\lib\\site-packages (from ipython>=7.23.1->ipykernel) (61.2.0)\n",
      "Requirement already satisfied: jedi>=0.16 in c:\\users\\microsoft\\anaconda3\\envs\\mlenv\\lib\\site-packages (from ipython>=7.23.1->ipykernel) (0.18.1)\n",
      "Requirement already satisfied: decorator in c:\\users\\microsoft\\anaconda3\\envs\\mlenv\\lib\\site-packages (from ipython>=7.23.1->ipykernel) (5.1.1)\n",
      "Requirement already satisfied: pickleshare in c:\\users\\microsoft\\anaconda3\\envs\\mlenv\\lib\\site-packages (from ipython>=7.23.1->ipykernel) (0.7.5)\n",
      "Requirement already satisfied: prompt-toolkit!=3.0.0,!=3.0.1,<3.1.0,>=2.0.0 in c:\\users\\microsoft\\anaconda3\\envs\\mlenv\\lib\\site-packages (from ipython>=7.23.1->ipykernel) (3.0.20)\n",
      "Requirement already satisfied: pygments in c:\\users\\microsoft\\anaconda3\\envs\\mlenv\\lib\\site-packages (from ipython>=7.23.1->ipykernel) (2.11.2)\n",
      "Requirement already satisfied: backcall in c:\\users\\microsoft\\anaconda3\\envs\\mlenv\\lib\\site-packages (from ipython>=7.23.1->ipykernel) (0.2.0)\n",
      "Requirement already satisfied: colorama in c:\\users\\microsoft\\anaconda3\\envs\\mlenv\\lib\\site-packages (from ipython>=7.23.1->ipykernel) (0.4.4)\n",
      "Requirement already satisfied: jupyter-core>=4.6.0 in c:\\users\\microsoft\\anaconda3\\envs\\mlenv\\lib\\site-packages (from jupyter-client<8.0->ipykernel) (4.9.2)\n",
      "Requirement already satisfied: pyzmq>=13 in c:\\users\\microsoft\\anaconda3\\envs\\mlenv\\lib\\site-packages (from jupyter-client<8.0->ipykernel) (22.3.0)\n",
      "Requirement already satisfied: python-dateutil>=2.1 in c:\\users\\microsoft\\anaconda3\\envs\\mlenv\\lib\\site-packages (from jupyter-client<8.0->ipykernel) (2.8.2)\n",
      "Requirement already satisfied: parso<0.9.0,>=0.8.0 in c:\\users\\microsoft\\anaconda3\\envs\\mlenv\\lib\\site-packages (from jedi>=0.16->ipython>=7.23.1->ipykernel) (0.8.3)\n",
      "Requirement already satisfied: pywin32>=1.0 in c:\\users\\microsoft\\anaconda3\\envs\\mlenv\\lib\\site-packages (from jupyter-core>=4.6.0->jupyter-client<8.0->ipykernel) (302)\n",
      "Requirement already satisfied: wcwidth in c:\\users\\microsoft\\anaconda3\\envs\\mlenv\\lib\\site-packages (from prompt-toolkit!=3.0.0,!=3.0.1,<3.1.0,>=2.0.0->ipython>=7.23.1->ipykernel) (0.2.5)\n",
      "Requirement already satisfied: six>=1.5 in c:\\users\\microsoft\\anaconda3\\envs\\mlenv\\lib\\site-packages (from python-dateutil>=2.1->jupyter-client<8.0->ipykernel) (1.16.0)\n"
     ]
    }
   ],
   "source": [
    "import pandas as pd\n",
    "import numpy as np\n",
    "!pip install ipykernel\n"
   ]
  },
  {
   "cell_type": "code",
   "execution_count": 3,
   "metadata": {},
   "outputs": [
    {
     "name": "stdout",
     "output_type": "stream",
     "text": [
      "Collecting spotipy\n",
      "  Downloading spotipy-2.23.0-py3-none-any.whl (29 kB)\n",
      "Collecting redis>=3.5.3 (from spotipy)\n",
      "  Downloading redis-4.5.5-py3-none-any.whl (240 kB)\n",
      "     -------------------------------------- 240.3/240.3 kB 1.1 MB/s eta 0:00:00\n",
      "Requirement already satisfied: requests>=2.25.0 in c:\\users\\microsoft\\anaconda3\\envs\\mlenv\\lib\\site-packages (from spotipy) (2.27.1)\n",
      "Requirement already satisfied: six>=1.15.0 in c:\\users\\microsoft\\anaconda3\\envs\\mlenv\\lib\\site-packages (from spotipy) (1.16.0)\n",
      "Requirement already satisfied: urllib3>=1.26.0 in c:\\users\\microsoft\\anaconda3\\envs\\mlenv\\lib\\site-packages (from spotipy) (1.26.9)\n",
      "Collecting async-timeout>=4.0.2 (from redis>=3.5.3->spotipy)\n",
      "  Using cached async_timeout-4.0.2-py3-none-any.whl (5.8 kB)\n",
      "Requirement already satisfied: importlib-metadata>=1.0 in c:\\users\\microsoft\\anaconda3\\envs\\mlenv\\lib\\site-packages (from redis>=3.5.3->spotipy) (4.11.3)\n",
      "Requirement already satisfied: typing-extensions in c:\\users\\microsoft\\anaconda3\\envs\\mlenv\\lib\\site-packages (from redis>=3.5.3->spotipy) (4.1.1)\n",
      "Requirement already satisfied: certifi>=2017.4.17 in c:\\users\\microsoft\\anaconda3\\envs\\mlenv\\lib\\site-packages (from requests>=2.25.0->spotipy) (2021.10.8)\n",
      "Requirement already satisfied: charset-normalizer~=2.0.0 in c:\\users\\microsoft\\anaconda3\\envs\\mlenv\\lib\\site-packages (from requests>=2.25.0->spotipy) (2.0.4)\n",
      "Requirement already satisfied: idna<4,>=2.5 in c:\\users\\microsoft\\anaconda3\\envs\\mlenv\\lib\\site-packages (from requests>=2.25.0->spotipy) (3.3)\n",
      "Requirement already satisfied: zipp>=0.5 in c:\\users\\microsoft\\anaconda3\\envs\\mlenv\\lib\\site-packages (from importlib-metadata>=1.0->redis>=3.5.3->spotipy) (3.7.0)\n",
      "Installing collected packages: async-timeout, redis, spotipy\n",
      "  Attempting uninstall: async-timeout\n",
      "    Found existing installation: async-timeout 4.0.1\n",
      "    Uninstalling async-timeout-4.0.1:\n",
      "      Successfully uninstalled async-timeout-4.0.1\n",
      "Successfully installed async-timeout-4.0.2 redis-4.5.5 spotipy-2.23.0\n"
     ]
    }
   ],
   "source": [
    "# Config to use spotify API\n",
    "!pip install spotipy\n",
    "import spotipy\n",
    "from spotipy.oauth2 import SpotifyClientCredentials\n",
    "import sys\n",
    "import pprint\n",
    "\n",
    "from config import my_id, my_secret\n",
    "\n",
    "ccm = SpotifyClientCredentials(my_id, my_secret)\n",
    "spotify = spotipy.Spotify(client_credentials_manager = ccm, language='en')"
   ]
  },
  {
   "cell_type": "code",
   "execution_count": 18,
   "metadata": {},
   "outputs": [
    {
     "name": "stdout",
     "output_type": "stream",
     "text": [
      "['3Nrfpe0tUJi4K4DXYWgMUX', '41MozSoPIsD1dJM0CLPjZF', '7n2Ycct7Beij7Dj7meI4X0', '2dIgFjalVxs4ThymZ67YCE', '7nqOGRxlXj7N2JYbgNEjYH', '0ghlgldX5Dd6720Q3qFyQB', '5t5FqBwTcgKTaWmfEbwQY9', '2KC9Qb60EaY0kW4eH68vr3', '6HaGTQPmzraVmaVxvz6EUc', '2AfmfGFbe0A0WsTYm0SDTx', '1z4g3DjTBBZKhvAroFlhOM', '6YVMFz59CuY7ngCxTxjpxE', '5L1lO4eRHmJ7a0Q6csE5cT', '6RHTUrRF63xao58xh9FXYJ', '1gBUSTR3TyDdTVFIaQnc02', '0b1sIQumIAsNbqAoIClSpy', '3HqSLMAZ3g3d5poNaI7GOU', '68KmkJeZGfwe1OUaivBa2L', '7f4ignuCJhLXfZ9giKT7rH', '3cjEqqelV9zb4BYE3qDQ4O', '3KonOYiLsU53m4yT7gNotP', '3JsHnjpbhX4SnySpvpa9DK', '3qNVuliS40BLgXGxhdBdqu', '4SpbR6yFEvexJuaBpgAU5p', '6HvZYsbFfjnjFrWF950C9d', '01XYiBYaoMJcNhPokrg0l0', '2dd5mrQZvg6SmahdgVKDzh', '4Kxlr1PRlDKEB0ekOCyHgX', '4TnGh5PKbSjpYqpIdlW5nz', '5R7AMwDeroq6Ls0COQYpS4', '52zMTJCKluDlFwMQWmccY7', '64k5e9kV9MdukXjFrR5R37', '5RmQ8k4l3HZ8JoPb4mNsML', '4XDi67ZENZcbfKnvMnTYsI', '3OBkZ9NG8F0Fn4oNpg0yuU', '0Sadg1vgvaPqGTOjxu0N6c', '0XATRDCYuuGhk0oE7C0o5G', '1VwDG9aBflQupaFNjUru9A', '1oSPZhvZMIrWW5I41kPkkY', '6UbmqUEgjLA6jAcXwbM1Z9', '5TnQc2N1iKlFjYD7CPGvFc', '28ot3wh4oNmoFOdVajibBl', '5vV3bFXnN6D6N3Nj4xRvaV', '6nfDaffa50mKtEOwR8g4df', '7cVZApDoQZpS447nHTsNqu', '2o8gT0fQmFxGNbowbdgeZe', '7zYj9S9SdIunYCfSm7vzAR', '5V1qsQHdXNm4ZEZHWvFnqQ', '3paGCCtX1Xr4Gx53mSeZuQ', '2PSJ6YriU7JsFucxACpU7Y', '3Nrfpe0tUJi4K4DXYWgMUX', '41MozSoPIsD1dJM0CLPjZF', '7n2Ycct7Beij7Dj7meI4X0', '2dIgFjalVxs4ThymZ67YCE', '7nqOGRxlXj7N2JYbgNEjYH', '0ghlgldX5Dd6720Q3qFyQB', '5t5FqBwTcgKTaWmfEbwQY9', '2KC9Qb60EaY0kW4eH68vr3', '6HaGTQPmzraVmaVxvz6EUc', '2AfmfGFbe0A0WsTYm0SDTx', '1z4g3DjTBBZKhvAroFlhOM', '6YVMFz59CuY7ngCxTxjpxE', '5L1lO4eRHmJ7a0Q6csE5cT', '6RHTUrRF63xao58xh9FXYJ', '1gBUSTR3TyDdTVFIaQnc02', '0b1sIQumIAsNbqAoIClSpy', '3HqSLMAZ3g3d5poNaI7GOU', '68KmkJeZGfwe1OUaivBa2L', '7f4ignuCJhLXfZ9giKT7rH', '3cjEqqelV9zb4BYE3qDQ4O', '3KonOYiLsU53m4yT7gNotP', '3JsHnjpbhX4SnySpvpa9DK', '3qNVuliS40BLgXGxhdBdqu', '4SpbR6yFEvexJuaBpgAU5p', '6HvZYsbFfjnjFrWF950C9d', '01XYiBYaoMJcNhPokrg0l0', '2dd5mrQZvg6SmahdgVKDzh', '4Kxlr1PRlDKEB0ekOCyHgX', '4TnGh5PKbSjpYqpIdlW5nz', '5R7AMwDeroq6Ls0COQYpS4', '52zMTJCKluDlFwMQWmccY7', '64k5e9kV9MdukXjFrR5R37', '5RmQ8k4l3HZ8JoPb4mNsML', '4XDi67ZENZcbfKnvMnTYsI', '3OBkZ9NG8F0Fn4oNpg0yuU', '0Sadg1vgvaPqGTOjxu0N6c', '0XATRDCYuuGhk0oE7C0o5G', '1VwDG9aBflQupaFNjUru9A', '1oSPZhvZMIrWW5I41kPkkY', '6UbmqUEgjLA6jAcXwbM1Z9', '5TnQc2N1iKlFjYD7CPGvFc', '28ot3wh4oNmoFOdVajibBl', '5vV3bFXnN6D6N3Nj4xRvaV', '6nfDaffa50mKtEOwR8g4df', '7cVZApDoQZpS447nHTsNqu', '2o8gT0fQmFxGNbowbdgeZe', '7zYj9S9SdIunYCfSm7vzAR', '5V1qsQHdXNm4ZEZHWvFnqQ', '3paGCCtX1Xr4Gx53mSeZuQ', '2PSJ6YriU7JsFucxACpU7Y', '3Nrfpe0tUJi4K4DXYWgMUX', '41MozSoPIsD1dJM0CLPjZF', '7n2Ycct7Beij7Dj7meI4X0', '2dIgFjalVxs4ThymZ67YCE', '7nqOGRxlXj7N2JYbgNEjYH', '0ghlgldX5Dd6720Q3qFyQB', '5t5FqBwTcgKTaWmfEbwQY9', '2KC9Qb60EaY0kW4eH68vr3', '6HaGTQPmzraVmaVxvz6EUc', '2AfmfGFbe0A0WsTYm0SDTx', '1z4g3DjTBBZKhvAroFlhOM', '6YVMFz59CuY7ngCxTxjpxE', '5L1lO4eRHmJ7a0Q6csE5cT', '6RHTUrRF63xao58xh9FXYJ', '1gBUSTR3TyDdTVFIaQnc02', '0b1sIQumIAsNbqAoIClSpy', '3HqSLMAZ3g3d5poNaI7GOU', '68KmkJeZGfwe1OUaivBa2L', '7f4ignuCJhLXfZ9giKT7rH', '3cjEqqelV9zb4BYE3qDQ4O', '3KonOYiLsU53m4yT7gNotP', '3JsHnjpbhX4SnySpvpa9DK', '3qNVuliS40BLgXGxhdBdqu', '4SpbR6yFEvexJuaBpgAU5p', '6HvZYsbFfjnjFrWF950C9d', '01XYiBYaoMJcNhPokrg0l0', '2dd5mrQZvg6SmahdgVKDzh', '4Kxlr1PRlDKEB0ekOCyHgX', '4TnGh5PKbSjpYqpIdlW5nz', '5R7AMwDeroq6Ls0COQYpS4', '52zMTJCKluDlFwMQWmccY7', '64k5e9kV9MdukXjFrR5R37', '5RmQ8k4l3HZ8JoPb4mNsML', '4XDi67ZENZcbfKnvMnTYsI', '3OBkZ9NG8F0Fn4oNpg0yuU', '0Sadg1vgvaPqGTOjxu0N6c', '0XATRDCYuuGhk0oE7C0o5G', '1VwDG9aBflQupaFNjUru9A', '1oSPZhvZMIrWW5I41kPkkY', '6UbmqUEgjLA6jAcXwbM1Z9', '5TnQc2N1iKlFjYD7CPGvFc', '28ot3wh4oNmoFOdVajibBl', '5vV3bFXnN6D6N3Nj4xRvaV', '6nfDaffa50mKtEOwR8g4df', '7cVZApDoQZpS447nHTsNqu', '2o8gT0fQmFxGNbowbdgeZe', '7zYj9S9SdIunYCfSm7vzAR', '5V1qsQHdXNm4ZEZHWvFnqQ', '3paGCCtX1Xr4Gx53mSeZuQ', '2PSJ6YriU7JsFucxACpU7Y']\n",
      "['3Nrfpe0tUJi4K4DXYWgMUX', '41MozSoPIsD1dJM0CLPjZF', '3cjEqqelV9zb4BYE3qDQ4O', '7n2Ycct7Beij7Dj7meI4X0', '1z4g3DjTBBZKhvAroFlhOM', '7nqOGRxlXj7N2JYbgNEjYH', '4Kxlr1PRlDKEB0ekOCyHgX', '5qRSs6mvI17zrkJpOHkCoM', '6nfDaffa50mKtEOwR8g4df', '4TnGh5PKbSjpYqpIdlW5nz', '5RR0MLwcjc87wjSw2JYdwx', '2hRQKC0gqlZGPrmUKbcchR', '7f4ignuCJhLXfZ9giKT7rH', '5DuzBeOgFwViFcv00Q5PFb', '6gzXCdfYfFe5XKhPKkYqxV', '4XDi67ZENZcbfKnvMnTYsI', '48eO052eSDcn8aTxiv6QaG', '3HqSLMAZ3g3d5poNaI7GOU', '0b1sIQumIAsNbqAoIClSpy', '2CvaqAMMsX576VBehaJ0Wx', '6MoXcK2GyGg7FIyxPU5yW6', '0XATRDCYuuGhk0oE7C0o5G', '5TnQc2N1iKlFjYD7CPGvFc', '3eCd0TZrBPm2n9cDG6yWfF', '2dIgFjalVxs4ThymZ67YCE', '1wKpMkucynaTfG8lyPprYV', '2AfmfGFbe0A0WsTYm0SDTx', '1foL9hLC9M6U94dINtOYfb', '3qNVuliS40BLgXGxhdBdqu', '1xs6WFotNQSXweo0GXrS0O', '2JhAlkmukNvarUpGhTFXUQ', '0qlWcS66ohOIi0M8JZwPft', '30b9WulBM8sFuBo17nNq9c', '52zMTJCKluDlFwMQWmccY7', '5rGgflnIpRNizTCozbYBuY', '3UwlejyX2b458azZ7eCnHb', '1l0mKo96Jh9HVYONcRl3Yp', '13rF01aOogvnkuQXOlgTW8', '3Lz3vEN23Fw0hIelrYEzUD', '6udveWUgX4vu75FF0DTrXV', '2dd5mrQZvg6SmahdgVKDzh', '6aLdhHUqgdKE86xbtNmY8g', '2FLqlgckDKdmpBrvLAT5BM', '2auC28zjQyVTsiZKNgPRGs', '6jV25rzTKQ2zMgrqHha1V5', '4k5fFEYgkWYrYvtOK3zVBl', '4XpUIb8uuNlIWVKmgKZXC0', '1gBUSTR3TyDdTVFIaQnc02', '5dCvSnVduaFleCnyy98JMo', '5BkB3rXc0qIdUtuEnhbK0A', '2hcsKca6hCfFMwwdbFvenJ', '6OwKE9Ez6ALxpTaKcT5ayv', '78sJswwVn4P8aEhkF4K6fQ', '6RKnXXyprPjhBdCvL802Ku', '4RnezwRV7VBJUCI1S0AE5u', '3uGFTJ7JMllvhgGpumieHF', '4pz4uzOMpJQyV8UTsDy4H8', '5RmQ8k4l3HZ8JoPb4mNsML', '2wTLheTmMcFCA4hdY8hZJP', '5snNHNlYT2UrtZo5HCJkiw', '2uWcrwgWmZcQc3IPBs3tfU', '6QyO41KctzGc70mVaVnXQO', '5HenzRvMtSrgtvU16XAoby', '0siBQaURCli5wn2lqv8WZg', '54gWVQFHf8IIqbjxAoOarN', '4muJrGMndyYWqZtfk8OWy4', '2e4G04F77jxVuDYo44TCSm', '5DIi2JWfQPTKffaVBlIYRn', '1mORehSVEd7lcaT2d7Sl2K', '7LOmc7gyMVMOWF8qwEdn2X', '7cVZApDoQZpS447nHTsNqu', '4z6yrDz5GfKXkeQZjOaZdq', '0UEP2XBR9aC5NBKcAKnBIq', '6jV25rzTKQ2zMgrqHha1V5', '6kxCoNfY6U1eP0Yc88phvk', '2PSJ6YriU7JsFucxACpU7Y', '3wRA5UYoo08BBKJnzyKkpF', '6wPBIyIIMxoqgux29bGF8I', '1sjw4xq2pAWy5Vdgba5QAt', '57okaLdCtv3nVBSn5otJkp', '2e4G04F77jxVuDYo44TCSm', '6nVMMEywS5Y4tsHPKx1nIo', '1bkpTEmumLC3xc7HgMsttU', '4U80LJd8sG6U9YTFP5izka', '5V1qsQHdXNm4ZEZHWvFnqQ', '6cdC1cwqh3eJAXaxXJt2jv', '0tzSBCPJZmHTdOA3ZV2mN3', '5na1LmEmK2VzNLje9snJYW', '1dOMFM5wDNsENQQW0nl0K8', '1R52cwGf75yTf7I3Q0Irf8', '0dTj3SqwE8kPnCzyzvYzhT', '3b4kLCI0ZJW47TFsNRqgCb', '3sxWOFw4MSN54SIQ8np6iG', '1sVSMPPNMMSZ7cQNfbvMOe', '6VJXRJvRRyLv99RZbXJ8RO', '1klFdLh3pak3eOtJP0styY', '20j1uz7iDOtIvIzCr5S8nx', '0gdWU9IX6LIiuPvXh95pas', '3ErHVJMsxTq2lLSmnONBm9', '7ieMQQDR0bdBPz572mtxwS', '3Nrfpe0tUJi4K4DXYWgMUX', '41MozSoPIsD1dJM0CLPjZF', '3cjEqqelV9zb4BYE3qDQ4O', '7n2Ycct7Beij7Dj7meI4X0', '1z4g3DjTBBZKhvAroFlhOM', '7nqOGRxlXj7N2JYbgNEjYH', '4Kxlr1PRlDKEB0ekOCyHgX', '5qRSs6mvI17zrkJpOHkCoM', '6nfDaffa50mKtEOwR8g4df', '4TnGh5PKbSjpYqpIdlW5nz', '5RR0MLwcjc87wjSw2JYdwx', '2hRQKC0gqlZGPrmUKbcchR', '7f4ignuCJhLXfZ9giKT7rH', '5DuzBeOgFwViFcv00Q5PFb', '6gzXCdfYfFe5XKhPKkYqxV', '4XDi67ZENZcbfKnvMnTYsI', '48eO052eSDcn8aTxiv6QaG', '3HqSLMAZ3g3d5poNaI7GOU', '0b1sIQumIAsNbqAoIClSpy', '2CvaqAMMsX576VBehaJ0Wx', '6MoXcK2GyGg7FIyxPU5yW6', '0XATRDCYuuGhk0oE7C0o5G', '5TnQc2N1iKlFjYD7CPGvFc', '3eCd0TZrBPm2n9cDG6yWfF', '2dIgFjalVxs4ThymZ67YCE', '1wKpMkucynaTfG8lyPprYV', '2AfmfGFbe0A0WsTYm0SDTx', '1foL9hLC9M6U94dINtOYfb', '3qNVuliS40BLgXGxhdBdqu', '1xs6WFotNQSXweo0GXrS0O', '2JhAlkmukNvarUpGhTFXUQ', '0qlWcS66ohOIi0M8JZwPft', '30b9WulBM8sFuBo17nNq9c', '52zMTJCKluDlFwMQWmccY7', '5rGgflnIpRNizTCozbYBuY', '3UwlejyX2b458azZ7eCnHb', '1l0mKo96Jh9HVYONcRl3Yp', '13rF01aOogvnkuQXOlgTW8', '3Lz3vEN23Fw0hIelrYEzUD', '6udveWUgX4vu75FF0DTrXV', '2dd5mrQZvg6SmahdgVKDzh', '6aLdhHUqgdKE86xbtNmY8g', '2FLqlgckDKdmpBrvLAT5BM', '2auC28zjQyVTsiZKNgPRGs', '6jV25rzTKQ2zMgrqHha1V5', '4k5fFEYgkWYrYvtOK3zVBl', '4XpUIb8uuNlIWVKmgKZXC0', '1gBUSTR3TyDdTVFIaQnc02', '5dCvSnVduaFleCnyy98JMo', '5BkB3rXc0qIdUtuEnhbK0A', '2hcsKca6hCfFMwwdbFvenJ', '6OwKE9Ez6ALxpTaKcT5ayv', '78sJswwVn4P8aEhkF4K6fQ', '6RKnXXyprPjhBdCvL802Ku', '4RnezwRV7VBJUCI1S0AE5u', '3uGFTJ7JMllvhgGpumieHF', '4pz4uzOMpJQyV8UTsDy4H8', '5RmQ8k4l3HZ8JoPb4mNsML', '2wTLheTmMcFCA4hdY8hZJP', '5snNHNlYT2UrtZo5HCJkiw', '2uWcrwgWmZcQc3IPBs3tfU', '6QyO41KctzGc70mVaVnXQO', '5HenzRvMtSrgtvU16XAoby', '0siBQaURCli5wn2lqv8WZg', '54gWVQFHf8IIqbjxAoOarN', '4muJrGMndyYWqZtfk8OWy4', '2e4G04F77jxVuDYo44TCSm', '5DIi2JWfQPTKffaVBlIYRn', '1mORehSVEd7lcaT2d7Sl2K', '7LOmc7gyMVMOWF8qwEdn2X', '7cVZApDoQZpS447nHTsNqu', '4z6yrDz5GfKXkeQZjOaZdq', '0UEP2XBR9aC5NBKcAKnBIq', '6jV25rzTKQ2zMgrqHha1V5', '6kxCoNfY6U1eP0Yc88phvk', '2PSJ6YriU7JsFucxACpU7Y', '3wRA5UYoo08BBKJnzyKkpF', '6wPBIyIIMxoqgux29bGF8I', '1sjw4xq2pAWy5Vdgba5QAt', '57okaLdCtv3nVBSn5otJkp', '2e4G04F77jxVuDYo44TCSm', '6nVMMEywS5Y4tsHPKx1nIo', '1bkpTEmumLC3xc7HgMsttU', '4U80LJd8sG6U9YTFP5izka', '5V1qsQHdXNm4ZEZHWvFnqQ', '6cdC1cwqh3eJAXaxXJt2jv', '0tzSBCPJZmHTdOA3ZV2mN3', '5na1LmEmK2VzNLje9snJYW', '1dOMFM5wDNsENQQW0nl0K8', '1R52cwGf75yTf7I3Q0Irf8', '0dTj3SqwE8kPnCzyzvYzhT', '3b4kLCI0ZJW47TFsNRqgCb', '3sxWOFw4MSN54SIQ8np6iG', '1sVSMPPNMMSZ7cQNfbvMOe', '6VJXRJvRRyLv99RZbXJ8RO', '1klFdLh3pak3eOtJP0styY', '20j1uz7iDOtIvIzCr5S8nx', '0gdWU9IX6LIiuPvXh95pas', '3ErHVJMsxTq2lLSmnONBm9', '7ieMQQDR0bdBPz572mtxwS', '3Nrfpe0tUJi4K4DXYWgMUX', '41MozSoPIsD1dJM0CLPjZF', '3cjEqqelV9zb4BYE3qDQ4O', '7n2Ycct7Beij7Dj7meI4X0', '1z4g3DjTBBZKhvAroFlhOM', '7nqOGRxlXj7N2JYbgNEjYH', '4Kxlr1PRlDKEB0ekOCyHgX', '5qRSs6mvI17zrkJpOHkCoM', '6nfDaffa50mKtEOwR8g4df', '4TnGh5PKbSjpYqpIdlW5nz', '5RR0MLwcjc87wjSw2JYdwx', '2hRQKC0gqlZGPrmUKbcchR', '7f4ignuCJhLXfZ9giKT7rH', '5DuzBeOgFwViFcv00Q5PFb', '6gzXCdfYfFe5XKhPKkYqxV', '4XDi67ZENZcbfKnvMnTYsI', '48eO052eSDcn8aTxiv6QaG', '3HqSLMAZ3g3d5poNaI7GOU', '0b1sIQumIAsNbqAoIClSpy', '2CvaqAMMsX576VBehaJ0Wx', '6MoXcK2GyGg7FIyxPU5yW6', '0XATRDCYuuGhk0oE7C0o5G', '5TnQc2N1iKlFjYD7CPGvFc', '3eCd0TZrBPm2n9cDG6yWfF', '2dIgFjalVxs4ThymZ67YCE', '1wKpMkucynaTfG8lyPprYV', '2AfmfGFbe0A0WsTYm0SDTx', '1foL9hLC9M6U94dINtOYfb', '3qNVuliS40BLgXGxhdBdqu', '1xs6WFotNQSXweo0GXrS0O', '2JhAlkmukNvarUpGhTFXUQ', '0qlWcS66ohOIi0M8JZwPft', '30b9WulBM8sFuBo17nNq9c', '52zMTJCKluDlFwMQWmccY7', '5rGgflnIpRNizTCozbYBuY', '3UwlejyX2b458azZ7eCnHb', '1l0mKo96Jh9HVYONcRl3Yp', '13rF01aOogvnkuQXOlgTW8', '3Lz3vEN23Fw0hIelrYEzUD', '6udveWUgX4vu75FF0DTrXV', '2dd5mrQZvg6SmahdgVKDzh', '6aLdhHUqgdKE86xbtNmY8g', '2FLqlgckDKdmpBrvLAT5BM', '2auC28zjQyVTsiZKNgPRGs', '6jV25rzTKQ2zMgrqHha1V5', '4k5fFEYgkWYrYvtOK3zVBl', '4XpUIb8uuNlIWVKmgKZXC0', '1gBUSTR3TyDdTVFIaQnc02', '5dCvSnVduaFleCnyy98JMo', '5BkB3rXc0qIdUtuEnhbK0A', '2hcsKca6hCfFMwwdbFvenJ', '6OwKE9Ez6ALxpTaKcT5ayv', '78sJswwVn4P8aEhkF4K6fQ', '6RKnXXyprPjhBdCvL802Ku', '4RnezwRV7VBJUCI1S0AE5u', '3uGFTJ7JMllvhgGpumieHF', '4pz4uzOMpJQyV8UTsDy4H8', '5RmQ8k4l3HZ8JoPb4mNsML', '2wTLheTmMcFCA4hdY8hZJP', '5snNHNlYT2UrtZo5HCJkiw', '2uWcrwgWmZcQc3IPBs3tfU', '6QyO41KctzGc70mVaVnXQO', '5HenzRvMtSrgtvU16XAoby', '0siBQaURCli5wn2lqv8WZg', '54gWVQFHf8IIqbjxAoOarN', '4muJrGMndyYWqZtfk8OWy4', '2e4G04F77jxVuDYo44TCSm', '5DIi2JWfQPTKffaVBlIYRn', '1mORehSVEd7lcaT2d7Sl2K', '7LOmc7gyMVMOWF8qwEdn2X', '7cVZApDoQZpS447nHTsNqu', '4z6yrDz5GfKXkeQZjOaZdq', '0UEP2XBR9aC5NBKcAKnBIq', '6jV25rzTKQ2zMgrqHha1V5', '6kxCoNfY6U1eP0Yc88phvk', '2PSJ6YriU7JsFucxACpU7Y', '3wRA5UYoo08BBKJnzyKkpF', '6wPBIyIIMxoqgux29bGF8I', '1sjw4xq2pAWy5Vdgba5QAt', '57okaLdCtv3nVBSn5otJkp', '2e4G04F77jxVuDYo44TCSm', '6nVMMEywS5Y4tsHPKx1nIo', '1bkpTEmumLC3xc7HgMsttU', '4U80LJd8sG6U9YTFP5izka', '5V1qsQHdXNm4ZEZHWvFnqQ', '6cdC1cwqh3eJAXaxXJt2jv', '0tzSBCPJZmHTdOA3ZV2mN3', '5na1LmEmK2VzNLje9snJYW', '1dOMFM5wDNsENQQW0nl0K8', '1R52cwGf75yTf7I3Q0Irf8', '0dTj3SqwE8kPnCzyzvYzhT', '3b4kLCI0ZJW47TFsNRqgCb', '3sxWOFw4MSN54SIQ8np6iG', '1sVSMPPNMMSZ7cQNfbvMOe', '6VJXRJvRRyLv99RZbXJ8RO', '1klFdLh3pak3eOtJP0styY', '20j1uz7iDOtIvIzCr5S8nx', '0gdWU9IX6LIiuPvXh95pas', '3ErHVJMsxTq2lLSmnONBm9', '7ieMQQDR0bdBPz572mtxwS']\n",
      "['2dd5mrQZvg6SmahdgVKDzh', '1l0mKo96Jh9HVYONcRl3Yp', '0Sadg1vgvaPqGTOjxu0N6c', '3Cv2vi3WTl8VZOTdrBkKdM', '2hRQKC0gqlZGPrmUKbcchR', '4Kxlr1PRlDKEB0ekOCyHgX', '6gzXCdfYfFe5XKhPKkYqxV', '6nVMMEywS5Y4tsHPKx1nIo', '1bkpTEmumLC3xc7HgMsttU', '2hRQKC0gqlZGPrmUKbcchR', '0Sadg1vgvaPqGTOjxu0N6c', '2wTLheTmMcFCA4hdY8hZJP', '6gzXCdfYfFe5XKhPKkYqxV', '1l0mKo96Jh9HVYONcRl3Yp', '4Kxlr1PRlDKEB0ekOCyHgX', '2hRQKC0gqlZGPrmUKbcchR', '1BEohdSWSBggmO979tzRwW', '0Sadg1vgvaPqGTOjxu0N6c', '2wTLheTmMcFCA4hdY8hZJP', '1l0mKo96Jh9HVYONcRl3Yp', '4Kxlr1PRlDKEB0ekOCyHgX', '7aZ221EQfonNG2lO9Hh192', '1BEohdSWSBggmO979tzRwW', '6udveWUgX4vu75FF0DTrXV', '2wTLheTmMcFCA4hdY8hZJP', '4Kxlr1PRlDKEB0ekOCyHgX', '1l0mKo96Jh9HVYONcRl3Yp', '2GEPtT5RDxrmdi0A4mbDi7', '0Sadg1vgvaPqGTOjxu0N6c', '3wRA5UYoo08BBKJnzyKkpF', '2wTLheTmMcFCA4hdY8hZJP', '1BEohdSWSBggmO979tzRwW', '3Cv2vi3WTl8VZOTdrBkKdM', '7aZ221EQfonNG2lO9Hh192', '6dCz3spfpIvqqqsIoP6wXi', '3wRA5UYoo08BBKJnzyKkpF', '1bkpTEmumLC3xc7HgMsttU', '0Sadg1vgvaPqGTOjxu0N6c', '6gzXCdfYfFe5XKhPKkYqxV', '4Kxlr1PRlDKEB0ekOCyHgX', '2wTLheTmMcFCA4hdY8hZJP', '3Cv2vi3WTl8VZOTdrBkKdM', '1BEohdSWSBggmO979tzRwW', '1bkpTEmumLC3xc7HgMsttU', '1loWI8jVk9btgJXHgqHXPD', '3wRA5UYoo08BBKJnzyKkpF', '1l0mKo96Jh9HVYONcRl3Yp', '7aZ221EQfonNG2lO9Hh192', '3offPqpKAKmpQkIdWnjzkc', '1Pr9gT0veB2tgcisQeIGoC', '4muJrGMndyYWqZtfk8OWy4', '3wRA5UYoo08BBKJnzyKkpF', '1loWI8jVk9btgJXHgqHXPD', '30b9WulBM8sFuBo17nNq9c', '6rmMpoeu2SIV4OLURCOn2e', '5iRPbkcPmqAFFwDUj6ywVS', '6dCz3spfpIvqqqsIoP6wXi', '14yLuCwlBqteUdBqx9soJV', '3e3oLJehq4vQl2H0FAJnvn', '1Pr9gT0veB2tgcisQeIGoC', '3offPqpKAKmpQkIdWnjzkc', '3wRA5UYoo08BBKJnzyKkpF', '6rmMpoeu2SIV4OLURCOn2e', '6dCz3spfpIvqqqsIoP6wXi', '3Cv2vi3WTl8VZOTdrBkKdM', '2hRQKC0gqlZGPrmUKbcchR', '1BEohdSWSBggmO979tzRwW', '3offPqpKAKmpQkIdWnjzkc', '3e3oLJehq4vQl2H0FAJnvn', '6rmMpoeu2SIV4OLURCOn2e', '1loWI8jVk9btgJXHgqHXPD', '13kJgvU22LHMsJtGWLmx7W', '4muJrGMndyYWqZtfk8OWy4', '3sxWOFw4MSN54SIQ8np6iG', '1Pr9gT0veB2tgcisQeIGoC', '2GEPtT5RDxrmdi0A4mbDi7', '7aZ221EQfonNG2lO9Hh192', '5iRPbkcPmqAFFwDUj6ywVS', '3hzcooxMtbApMTvvn6XKVA', '3sxWOFw4MSN54SIQ8np6iG', '13kJgvU22LHMsJtGWLmx7W', '2hRQKC0gqlZGPrmUKbcchR', '5SnaL8SsjGMHQNyqpa8Zos', '2GEPtT5RDxrmdi0A4mbDi7', '503DjcVO5Ku1NgLPhVuNg7', '6nVMMEywS5Y4tsHPKx1nIo', '13kJgvU22LHMsJtGWLmx7W', '14f1WN9TUDVBK4sHUStmLG', '6dCz3spfpIvqqqsIoP6wXi', '4muJrGMndyYWqZtfk8OWy4', '2GEPtT5RDxrmdi0A4mbDi7', '503DjcVO5Ku1NgLPhVuNg7', '6rmMpoeu2SIV4OLURCOn2e', '6nVMMEywS5Y4tsHPKx1nIo', '3hzcooxMtbApMTvvn6XKVA', '1bkpTEmumLC3xc7HgMsttU', '14f1WN9TUDVBK4sHUStmLG', '5iRPbkcPmqAFFwDUj6ywVS', '4muJrGMndyYWqZtfk8OWy4', '4WItSECPefckW11qSnZXyv', '2dd5mrQZvg6SmahdgVKDzh', '1l0mKo96Jh9HVYONcRl3Yp', '0Sadg1vgvaPqGTOjxu0N6c', '3Cv2vi3WTl8VZOTdrBkKdM', '2hRQKC0gqlZGPrmUKbcchR', '4Kxlr1PRlDKEB0ekOCyHgX', '6gzXCdfYfFe5XKhPKkYqxV', '6nVMMEywS5Y4tsHPKx1nIo', '1bkpTEmumLC3xc7HgMsttU', '2hRQKC0gqlZGPrmUKbcchR', '0Sadg1vgvaPqGTOjxu0N6c', '2wTLheTmMcFCA4hdY8hZJP', '6gzXCdfYfFe5XKhPKkYqxV', '1l0mKo96Jh9HVYONcRl3Yp', '4Kxlr1PRlDKEB0ekOCyHgX', '2hRQKC0gqlZGPrmUKbcchR', '1BEohdSWSBggmO979tzRwW', '0Sadg1vgvaPqGTOjxu0N6c', '2wTLheTmMcFCA4hdY8hZJP', '1l0mKo96Jh9HVYONcRl3Yp', '4Kxlr1PRlDKEB0ekOCyHgX', '7aZ221EQfonNG2lO9Hh192', '1BEohdSWSBggmO979tzRwW', '6udveWUgX4vu75FF0DTrXV', '2wTLheTmMcFCA4hdY8hZJP', '4Kxlr1PRlDKEB0ekOCyHgX', '1l0mKo96Jh9HVYONcRl3Yp', '2GEPtT5RDxrmdi0A4mbDi7', '0Sadg1vgvaPqGTOjxu0N6c', '3wRA5UYoo08BBKJnzyKkpF', '2wTLheTmMcFCA4hdY8hZJP', '1BEohdSWSBggmO979tzRwW', '3Cv2vi3WTl8VZOTdrBkKdM', '7aZ221EQfonNG2lO9Hh192', '6dCz3spfpIvqqqsIoP6wXi', '3wRA5UYoo08BBKJnzyKkpF', '1bkpTEmumLC3xc7HgMsttU', '0Sadg1vgvaPqGTOjxu0N6c', '6gzXCdfYfFe5XKhPKkYqxV', '4Kxlr1PRlDKEB0ekOCyHgX', '2wTLheTmMcFCA4hdY8hZJP', '3Cv2vi3WTl8VZOTdrBkKdM', '1BEohdSWSBggmO979tzRwW', '1bkpTEmumLC3xc7HgMsttU', '1loWI8jVk9btgJXHgqHXPD', '3wRA5UYoo08BBKJnzyKkpF', '1l0mKo96Jh9HVYONcRl3Yp', '7aZ221EQfonNG2lO9Hh192', '3offPqpKAKmpQkIdWnjzkc', '1Pr9gT0veB2tgcisQeIGoC', '4muJrGMndyYWqZtfk8OWy4', '3wRA5UYoo08BBKJnzyKkpF', '1loWI8jVk9btgJXHgqHXPD', '30b9WulBM8sFuBo17nNq9c', '6rmMpoeu2SIV4OLURCOn2e', '5iRPbkcPmqAFFwDUj6ywVS', '6dCz3spfpIvqqqsIoP6wXi', '14yLuCwlBqteUdBqx9soJV', '3e3oLJehq4vQl2H0FAJnvn', '1Pr9gT0veB2tgcisQeIGoC', '3offPqpKAKmpQkIdWnjzkc', '3wRA5UYoo08BBKJnzyKkpF', '6rmMpoeu2SIV4OLURCOn2e', '6dCz3spfpIvqqqsIoP6wXi', '3Cv2vi3WTl8VZOTdrBkKdM', '2hRQKC0gqlZGPrmUKbcchR', '1BEohdSWSBggmO979tzRwW', '3offPqpKAKmpQkIdWnjzkc', '3e3oLJehq4vQl2H0FAJnvn', '6rmMpoeu2SIV4OLURCOn2e', '1loWI8jVk9btgJXHgqHXPD', '13kJgvU22LHMsJtGWLmx7W', '4muJrGMndyYWqZtfk8OWy4', '3sxWOFw4MSN54SIQ8np6iG', '1Pr9gT0veB2tgcisQeIGoC', '2GEPtT5RDxrmdi0A4mbDi7', '7aZ221EQfonNG2lO9Hh192', '5iRPbkcPmqAFFwDUj6ywVS', '3hzcooxMtbApMTvvn6XKVA', '3sxWOFw4MSN54SIQ8np6iG', '13kJgvU22LHMsJtGWLmx7W', '2hRQKC0gqlZGPrmUKbcchR', '5SnaL8SsjGMHQNyqpa8Zos', '2GEPtT5RDxrmdi0A4mbDi7', '503DjcVO5Ku1NgLPhVuNg7', '6nVMMEywS5Y4tsHPKx1nIo', '13kJgvU22LHMsJtGWLmx7W', '14f1WN9TUDVBK4sHUStmLG', '6dCz3spfpIvqqqsIoP6wXi', '4muJrGMndyYWqZtfk8OWy4', '2GEPtT5RDxrmdi0A4mbDi7', '503DjcVO5Ku1NgLPhVuNg7', '6rmMpoeu2SIV4OLURCOn2e', '6nVMMEywS5Y4tsHPKx1nIo', '3hzcooxMtbApMTvvn6XKVA', '1bkpTEmumLC3xc7HgMsttU', '14f1WN9TUDVBK4sHUStmLG', '5iRPbkcPmqAFFwDUj6ywVS', '4muJrGMndyYWqZtfk8OWy4', '4WItSECPefckW11qSnZXyv', '2dd5mrQZvg6SmahdgVKDzh', '1l0mKo96Jh9HVYONcRl3Yp', '0Sadg1vgvaPqGTOjxu0N6c', '3Cv2vi3WTl8VZOTdrBkKdM', '2hRQKC0gqlZGPrmUKbcchR', '4Kxlr1PRlDKEB0ekOCyHgX', '6gzXCdfYfFe5XKhPKkYqxV', '6nVMMEywS5Y4tsHPKx1nIo', '1bkpTEmumLC3xc7HgMsttU', '2hRQKC0gqlZGPrmUKbcchR', '0Sadg1vgvaPqGTOjxu0N6c', '2wTLheTmMcFCA4hdY8hZJP', '6gzXCdfYfFe5XKhPKkYqxV', '1l0mKo96Jh9HVYONcRl3Yp', '4Kxlr1PRlDKEB0ekOCyHgX', '2hRQKC0gqlZGPrmUKbcchR', '1BEohdSWSBggmO979tzRwW', '0Sadg1vgvaPqGTOjxu0N6c', '2wTLheTmMcFCA4hdY8hZJP', '1l0mKo96Jh9HVYONcRl3Yp', '4Kxlr1PRlDKEB0ekOCyHgX', '7aZ221EQfonNG2lO9Hh192', '1BEohdSWSBggmO979tzRwW', '6udveWUgX4vu75FF0DTrXV', '2wTLheTmMcFCA4hdY8hZJP', '4Kxlr1PRlDKEB0ekOCyHgX', '1l0mKo96Jh9HVYONcRl3Yp', '2GEPtT5RDxrmdi0A4mbDi7', '0Sadg1vgvaPqGTOjxu0N6c', '3wRA5UYoo08BBKJnzyKkpF', '2wTLheTmMcFCA4hdY8hZJP', '1BEohdSWSBggmO979tzRwW', '3Cv2vi3WTl8VZOTdrBkKdM', '7aZ221EQfonNG2lO9Hh192', '6dCz3spfpIvqqqsIoP6wXi', '3wRA5UYoo08BBKJnzyKkpF', '1bkpTEmumLC3xc7HgMsttU', '0Sadg1vgvaPqGTOjxu0N6c', '6gzXCdfYfFe5XKhPKkYqxV', '4Kxlr1PRlDKEB0ekOCyHgX', '2wTLheTmMcFCA4hdY8hZJP', '3Cv2vi3WTl8VZOTdrBkKdM', '1BEohdSWSBggmO979tzRwW', '1bkpTEmumLC3xc7HgMsttU', '1loWI8jVk9btgJXHgqHXPD', '3wRA5UYoo08BBKJnzyKkpF', '1l0mKo96Jh9HVYONcRl3Yp', '7aZ221EQfonNG2lO9Hh192', '3offPqpKAKmpQkIdWnjzkc', '1Pr9gT0veB2tgcisQeIGoC', '4muJrGMndyYWqZtfk8OWy4', '3wRA5UYoo08BBKJnzyKkpF', '1loWI8jVk9btgJXHgqHXPD', '30b9WulBM8sFuBo17nNq9c', '6rmMpoeu2SIV4OLURCOn2e', '5iRPbkcPmqAFFwDUj6ywVS', '6dCz3spfpIvqqqsIoP6wXi', '14yLuCwlBqteUdBqx9soJV', '3e3oLJehq4vQl2H0FAJnvn', '1Pr9gT0veB2tgcisQeIGoC', '3offPqpKAKmpQkIdWnjzkc', '3wRA5UYoo08BBKJnzyKkpF', '6rmMpoeu2SIV4OLURCOn2e', '6dCz3spfpIvqqqsIoP6wXi', '3Cv2vi3WTl8VZOTdrBkKdM', '2hRQKC0gqlZGPrmUKbcchR', '1BEohdSWSBggmO979tzRwW', '3offPqpKAKmpQkIdWnjzkc', '3e3oLJehq4vQl2H0FAJnvn', '6rmMpoeu2SIV4OLURCOn2e', '1loWI8jVk9btgJXHgqHXPD', '13kJgvU22LHMsJtGWLmx7W', '4muJrGMndyYWqZtfk8OWy4', '3sxWOFw4MSN54SIQ8np6iG', '1Pr9gT0veB2tgcisQeIGoC', '2GEPtT5RDxrmdi0A4mbDi7', '7aZ221EQfonNG2lO9Hh192', '5iRPbkcPmqAFFwDUj6ywVS', '3hzcooxMtbApMTvvn6XKVA', '3sxWOFw4MSN54SIQ8np6iG', '13kJgvU22LHMsJtGWLmx7W', '2hRQKC0gqlZGPrmUKbcchR', '5SnaL8SsjGMHQNyqpa8Zos', '2GEPtT5RDxrmdi0A4mbDi7', '503DjcVO5Ku1NgLPhVuNg7', '6nVMMEywS5Y4tsHPKx1nIo', '13kJgvU22LHMsJtGWLmx7W', '14f1WN9TUDVBK4sHUStmLG', '6dCz3spfpIvqqqsIoP6wXi', '4muJrGMndyYWqZtfk8OWy4', '2GEPtT5RDxrmdi0A4mbDi7', '503DjcVO5Ku1NgLPhVuNg7', '6rmMpoeu2SIV4OLURCOn2e', '6nVMMEywS5Y4tsHPKx1nIo', '3hzcooxMtbApMTvvn6XKVA', '1bkpTEmumLC3xc7HgMsttU', '14f1WN9TUDVBK4sHUStmLG', '5iRPbkcPmqAFFwDUj6ywVS', '4muJrGMndyYWqZtfk8OWy4', '4WItSECPefckW11qSnZXyv']\n"
     ]
    }
   ],
   "source": [
    "# Using Spotify API to get the artists' ID from the playlist and save it in a csv file\n",
    "\n",
    "# Create a list of the playlist's ID\n",
    "playlists = [\"37i9dQZF1DWUtMIvjJU4QQ\", \"37i9dQZF1DX5CHqBODmn2c\", \"37i9dQZF1DWUoY6Ih7vsxr\"]\n",
    "\n",
    "\n",
    "# How do I get the artist ID from the playlist?\n",
    "# Create a function to get the artist ID from the playlist\n",
    "def get_artist_id(playlist_id):\n",
    "    artist_id = []\n",
    "    for playlist in playlists:\n",
    "        results = spotify.playlist(playlist_id)\n",
    "        for item in results['tracks']['items']:\n",
    "            track = item['track']\n",
    "            artist_id.append(track['artists'][0]['id'])\n",
    "    return artist_id\n",
    "\n",
    "# Using the function to get the artist ID from the playlist\n",
    "\n",
    "artists_id = []\n",
    "for playlist in playlists:\n",
    "    artist_id = get_artist_id(playlist)\n",
    "    print(artist_id)\n",
    "    artists_id.append(artist_id)"
   ]
  },
  {
   "cell_type": "code",
   "execution_count": 28,
   "metadata": {},
   "outputs": [],
   "source": [
    "# Now we have a list of artists' ID from the playlist\n",
    "artists_id\n",
    "\n",
    "# Now artists_id has 3 lists of artists' ID from three playlists. I need to combine them into one list and make it a dataframe\n",
    "# Create a function to combine the lists\n",
    "def combine_list(lists):\n",
    "    combined_list = []\n",
    "    for list in lists:\n",
    "        combined_list += list\n",
    "    return combined_list\n",
    "\n",
    "# Using the function to combine the lists\n",
    "combined_list = combine_list(artists_id)\n",
    "\n",
    "# make it a dataframe\n",
    "df = pd.DataFrame(combined_list, columns=['Spotify_ID'])\n"
   ]
  },
  {
   "cell_type": "code",
   "execution_count": 29,
   "metadata": {},
   "outputs": [],
   "source": [
    "df2 = pd.read_csv(\"Kpop_artist.csv\")\n",
    "df2 = df2.drop(columns=['Artist', 'artist_lower'])\n",
    "\n",
    "# Combine the two dataframes \n",
    "df3 = pd.concat([df, df2], axis=0, ignore_index=True)"
   ]
  },
  {
   "cell_type": "code",
   "execution_count": 31,
   "metadata": {},
   "outputs": [],
   "source": [
    "# Remove the duplicates\n",
    "df3 = df3.drop_duplicates(subset=['Spotify_ID'], keep='first')"
   ]
  },
  {
   "cell_type": "code",
   "execution_count": 33,
   "metadata": {},
   "outputs": [
    {
     "name": "stdout",
     "output_type": "stream",
     "text": [
      "                 Spotify_ID\n",
      "0    3Nrfpe0tUJi4K4DXYWgMUX\n",
      "1    41MozSoPIsD1dJM0CLPjZF\n",
      "2    7n2Ycct7Beij7Dj7meI4X0\n",
      "3    2dIgFjalVxs4ThymZ67YCE\n",
      "4    7nqOGRxlXj7N2JYbgNEjYH\n",
      "..                      ...\n",
      "843  1Y02Ts0nV3DTziLQZYVX4V\n",
      "846  0CmvFWTX9zmMNCUi6fHtAx\n",
      "849  2GB76Lm833jVI5kLvKEB7Z\n",
      "850  2HDRkPTO5A59sFcC2ROGbw\n",
      "854  6lGfLCig2b5mvDTtsPSrb0\n",
      "\n",
      "[186 rows x 1 columns]\n"
     ]
    }
   ],
   "source": [
    "# Now we have a dataframe with all the artists' ID from the playlist and the Kpop artists' ID\n",
    "print(df3)\n",
    "\n",
    "# Export to csv\n",
    "df3.to_csv(\"kpop_artist_id.csv\")"
   ]
  },
  {
   "attachments": {},
   "cell_type": "markdown",
   "metadata": {},
   "source": [
    "Now I gathered Spotify artists ID of 185 top K-pop artists.\n",
    "I might need a data cleaning because it includes non-Kpop artists with whom K-pop artists collaborated."
   ]
  }
 ],
 "metadata": {
  "kernelspec": {
   "display_name": "mlenv",
   "language": "python",
   "name": "mlenv"
  },
  "language_info": {
   "codemirror_mode": {
    "name": "ipython",
    "version": 3
   },
   "file_extension": ".py",
   "mimetype": "text/x-python",
   "name": "python",
   "nbconvert_exporter": "python",
   "pygments_lexer": "ipython3",
   "version": "3.7.13"
  },
  "orig_nbformat": 4
 },
 "nbformat": 4,
 "nbformat_minor": 2
}
