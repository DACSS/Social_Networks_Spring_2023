{
 "cells": [
  {
   "cell_type": "code",
   "execution_count": 2,
   "id": "528ebfb9",
   "metadata": {},
   "outputs": [],
   "source": [
    "my_id = \"f5f8ed1b68e644fb9dc9dfd3e846b9b3\"\n",
    "my_secret = \"899ed34f4fcb4a78b7997e271eb17945\""
   ]
  }
 ],
 "metadata": {
  "kernelspec": {
   "display_name": "Python 3 (ipykernel)",
   "language": "python",
   "name": "python3"
  },
  "language_info": {
   "codemirror_mode": {
    "name": "ipython",
    "version": 3
   },
   "file_extension": ".py",
   "mimetype": "text/x-python",
   "name": "python",
   "nbconvert_exporter": "python",
   "pygments_lexer": "ipython3",
   "version": "3.9.7"
  }
 },
 "nbformat": 4,
 "nbformat_minor": 5
}
