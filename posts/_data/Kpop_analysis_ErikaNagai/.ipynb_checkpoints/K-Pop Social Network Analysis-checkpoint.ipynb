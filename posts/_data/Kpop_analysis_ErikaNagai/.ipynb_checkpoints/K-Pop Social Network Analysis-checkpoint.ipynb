{
 "cells": [
  {
   "cell_type": "markdown",
   "id": "0c199c5a",
   "metadata": {},
   "source": [
    "I asked the 50 most listened K-pop artists in 2010, 2015, and 2020.\n",
    "I collected their Spotify artist IDs manually or based on the Kaggle dataset ()."
   ]
  },
  {
   "cell_type": "code",
   "execution_count": 1,
   "id": "788fd246",
   "metadata": {},
   "outputs": [],
   "source": [
    "import pandas as pd\n",
    "import numpy as np"
   ]
  },
  {
   "cell_type": "code",
   "execution_count": 5,
   "id": "82483321",
   "metadata": {},
   "outputs": [
    {
     "data": {
      "text/html": [
       "<div>\n",
       "<style scoped>\n",
       "    .dataframe tbody tr th:only-of-type {\n",
       "        vertical-align: middle;\n",
       "    }\n",
       "\n",
       "    .dataframe tbody tr th {\n",
       "        vertical-align: top;\n",
       "    }\n",
       "\n",
       "    .dataframe thead th {\n",
       "        text-align: right;\n",
       "    }\n",
       "</style>\n",
       "<table border=\"1\" class=\"dataframe\">\n",
       "  <thead>\n",
       "    <tr style=\"text-align: right;\">\n",
       "      <th></th>\n",
       "      <th>Artist</th>\n",
       "      <th>artist_lower</th>\n",
       "      <th>Spotify_ID</th>\n",
       "    </tr>\n",
       "  </thead>\n",
       "  <tbody>\n",
       "    <tr>\n",
       "      <th>0</th>\n",
       "      <td>(G)I-DLE</td>\n",
       "      <td>(g)i-dle</td>\n",
       "      <td>2AfmfGFbe0A0WsTYm0SDTx</td>\n",
       "    </tr>\n",
       "    <tr>\n",
       "      <th>1</th>\n",
       "      <td>2AM</td>\n",
       "      <td>2am</td>\n",
       "      <td>5SnaL8SsjGMHQNyqpa8Zos</td>\n",
       "    </tr>\n",
       "    <tr>\n",
       "      <th>2</th>\n",
       "      <td>2NE1</td>\n",
       "      <td>2ne1</td>\n",
       "      <td>1l0mKo96Jh9HVYONcRl3Yp</td>\n",
       "    </tr>\n",
       "    <tr>\n",
       "      <th>3</th>\n",
       "      <td>2PM</td>\n",
       "      <td>2pm</td>\n",
       "      <td>5iRPbkcPmqAFFwDUj6ywVS</td>\n",
       "    </tr>\n",
       "    <tr>\n",
       "      <th>4</th>\n",
       "      <td>4Minute</td>\n",
       "      <td>4minute</td>\n",
       "      <td>6cdC1cwqh3eJAXaxXJt2jv</td>\n",
       "    </tr>\n",
       "    <tr>\n",
       "      <th>...</th>\n",
       "      <td>...</td>\n",
       "      <td>...</td>\n",
       "      <td>...</td>\n",
       "    </tr>\n",
       "    <tr>\n",
       "      <th>101</th>\n",
       "      <td>VIXX</td>\n",
       "      <td>vixx</td>\n",
       "      <td>5BkB3rXc0qIdUtuEnhbK0A</td>\n",
       "    </tr>\n",
       "    <tr>\n",
       "      <th>102</th>\n",
       "      <td>WINNER</td>\n",
       "      <td>winner</td>\n",
       "      <td>5DuzBeOgFwViFcv00Q5PFb</td>\n",
       "    </tr>\n",
       "    <tr>\n",
       "      <th>103</th>\n",
       "      <td>Wonder Girls</td>\n",
       "      <td>wonder girls</td>\n",
       "      <td>3Cv2vi3WTl8VZOTdrBkKdM</td>\n",
       "    </tr>\n",
       "    <tr>\n",
       "      <th>104</th>\n",
       "      <td>ZE:A</td>\n",
       "      <td>ze:a</td>\n",
       "      <td>6lGfLCig2b5mvDTtsPSrb0</td>\n",
       "    </tr>\n",
       "    <tr>\n",
       "      <th>105</th>\n",
       "      <td>ZICO</td>\n",
       "      <td>zico</td>\n",
       "      <td>4XpUIb8uuNlIWVKmgKZXC0</td>\n",
       "    </tr>\n",
       "  </tbody>\n",
       "</table>\n",
       "<p>106 rows × 3 columns</p>\n",
       "</div>"
      ],
      "text/plain": [
       "           Artist  artist_lower              Spotify_ID\n",
       "0        (G)I-DLE      (g)i-dle  2AfmfGFbe0A0WsTYm0SDTx\n",
       "1             2AM           2am  5SnaL8SsjGMHQNyqpa8Zos\n",
       "2            2NE1          2ne1  1l0mKo96Jh9HVYONcRl3Yp\n",
       "3             2PM           2pm  5iRPbkcPmqAFFwDUj6ywVS\n",
       "4         4Minute       4minute  6cdC1cwqh3eJAXaxXJt2jv\n",
       "..            ...           ...                     ...\n",
       "101          VIXX          vixx  5BkB3rXc0qIdUtuEnhbK0A\n",
       "102        WINNER        winner  5DuzBeOgFwViFcv00Q5PFb\n",
       "103  Wonder Girls  wonder girls  3Cv2vi3WTl8VZOTdrBkKdM\n",
       "104          ZE:A          ze:a  6lGfLCig2b5mvDTtsPSrb0\n",
       "105          ZICO          zico  4XpUIb8uuNlIWVKmgKZXC0\n",
       "\n",
       "[106 rows x 3 columns]"
      ]
     },
     "execution_count": 5,
     "metadata": {},
     "output_type": "execute_result"
    }
   ],
   "source": [
    "# Read in the data\n",
    "\n",
    "artist_id = pd.read_csv(\"Kpop_artist.csv\")\n",
    "artist_id"
   ]
  },
  {
   "cell_type": "code",
   "execution_count": 13,
   "id": "bd9a87e5",
   "metadata": {},
   "outputs": [],
   "source": [
    "# test data\n",
    "\n",
    "test = artist_id.iloc[:3]"
   ]
  },
  {
   "cell_type": "code",
   "execution_count": null,
   "id": "5631a9b6",
   "metadata": {},
   "outputs": [],
   "source": [
    "artists_ids = test['Spotify_ID']"
   ]
  },
  {
   "cell_type": "code",
   "execution_count": 17,
   "id": "caf4af2c",
   "metadata": {},
   "outputs": [
    {
     "name": "stdout",
     "output_type": "stream",
     "text": [
      "Requirement already satisfied: spotipy in c:\\users\\microsoft\\anaconda3\\lib\\site-packages (2.22.1)\n",
      "Requirement already satisfied: urllib3>=1.26.0 in c:\\users\\microsoft\\anaconda3\\lib\\site-packages (from spotipy) (1.26.7)\n",
      "Requirement already satisfied: six>=1.15.0 in c:\\users\\microsoft\\anaconda3\\lib\\site-packages (from spotipy) (1.16.0)\n",
      "Requirement already satisfied: redis>=3.5.3 in c:\\users\\microsoft\\anaconda3\\lib\\site-packages (from spotipy) (4.5.1)\n",
      "Requirement already satisfied: requests>=2.25.0 in c:\\users\\microsoft\\anaconda3\\lib\\site-packages (from spotipy) (2.26.0)\n",
      "Requirement already satisfied: async-timeout>=4.0.2 in c:\\users\\microsoft\\anaconda3\\lib\\site-packages (from redis>=3.5.3->spotipy) (4.0.2)\n",
      "Requirement already satisfied: idna<4,>=2.5 in c:\\users\\microsoft\\anaconda3\\lib\\site-packages (from requests>=2.25.0->spotipy) (3.2)\n",
      "Requirement already satisfied: certifi>=2017.4.17 in c:\\users\\microsoft\\anaconda3\\lib\\site-packages (from requests>=2.25.0->spotipy) (2021.10.8)\n",
      "Requirement already satisfied: charset-normalizer~=2.0.0 in c:\\users\\microsoft\\anaconda3\\lib\\site-packages (from requests>=2.25.0->spotipy) (2.0.4)\n"
     ]
    }
   ],
   "source": [
    "!pip install spotipy\n",
    "import spotipy\n",
    "from spotipy.oauth2 import SpotifyClientCredentials\n",
    "import sys\n",
    "import pprint\n",
    "\n",
    "from config import my_id, my_secret\n",
    "\n",
    "ccm = SpotifyClientCredentials(my_id, my_secret)\n",
    "spotify = spotipy.Spotify(client_credentials_manager = ccm, language='en')\n"
   ]
  }
 ],
 "metadata": {
  "kernelspec": {
   "display_name": "Python 3 (ipykernel)",
   "language": "python",
   "name": "python3"
  },
  "language_info": {
   "codemirror_mode": {
    "name": "ipython",
    "version": 3
   },
   "file_extension": ".py",
   "mimetype": "text/x-python",
   "name": "python",
   "nbconvert_exporter": "python",
   "pygments_lexer": "ipython3",
   "version": "3.9.7"
  }
 },
 "nbformat": 4,
 "nbformat_minor": 5
}
